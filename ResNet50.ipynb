{
 "cells": [
  {
   "cell_type": "code",
   "execution_count": 1,
   "metadata": {
    "metadata": {}
   },
   "outputs": [],
   "source": [
    "import matplotlib.pyplot as plt\n",
    "import numpy as np            \n",
    "import pandas as pd        \n",
    "\n",
    "from tensorflow import keras\n",
    "from tensorflow.keras.preprocessing.image import ImageDataGenerator\n",
    "from keras.applications import ResNet50\n",
    "from keras.layers import Flatten, Dense, BatchNormalization, GlobalAveragePooling2D, Dropout\n",
    "from keras.models import Model\n",
    "from keras.callbacks import EarlyStopping, ReduceLROnPlateau\n",
    "from sklearn.utils.class_weight import compute_sample_weight\n",
    "\n",
    "#Đường dẫn thư mục train và test\n",
    "train_path = r'.\\train'\n",
    "test_path = r'.\\test'\n",
    "val_path = r'.\\val'\n",
    "\n",
    "batch_size = 16 \n",
    "\n",
    "img_height = 500\n",
    "img_width = 500"
   ]
  },
  {
   "cell_type": "code",
   "execution_count": 2,
   "metadata": {},
   "outputs": [],
   "source": [
    "image_gen = ImageDataGenerator(\n",
    "    rescale=1./255,\n",
    "    shear_range=0.2,\n",
    "    zoom_range=0.2,\n",
    "    horizontal_flip=True,\n",
    "    rotation_range=30,\n",
    "    width_shift_range=0.2,\n",
    "    height_shift_range=0.2,\n",
    "    brightness_range=[0.8,1.2],\n",
    "    fill_mode='nearest'\n",
    ")\n",
    "\n",
    "test_data_gen = ImageDataGenerator(rescale=1./255)"
   ]
  },
  {
   "cell_type": "code",
   "execution_count": 3,
   "metadata": {},
   "outputs": [
    {
     "name": "stdout",
     "output_type": "stream",
     "text": [
      "Found 1943 images belonging to 2 classes.\n",
      "Found 497 images belonging to 2 classes.\n",
      "Found 611 images belonging to 2 classes.\n"
     ]
    }
   ],
   "source": [
    "train_generator = image_gen.flow_from_directory(\n",
    "    train_path,\n",
    "    target_size=(img_height, img_width),\n",
    "    batch_size=batch_size,\n",
    "    class_mode='binary',\n",
    "    color_mode='rgb'\n",
    ")\n",
    "\n",
    "validation_generator = image_gen.flow_from_directory(\n",
    "    val_path,\n",
    "    target_size=(img_height, img_width),\n",
    "    batch_size=batch_size,\n",
    "    class_mode='binary',\n",
    "    color_mode='rgb'\n",
    ")\n",
    "\n",
    "test = test_data_gen.flow_from_directory(\n",
    "    test_path,\n",
    "    target_size=(img_height, img_width),\n",
    "    color_mode='rgb', \n",
    "    shuffle=False,\n",
    "    class_mode='binary',\n",
    "    batch_size=batch_size\n",
    ")\n"
   ]
  },
  {
   "cell_type": "code",
   "execution_count": 4,
   "metadata": {},
   "outputs": [
    {
     "name": "stdout",
     "output_type": "stream",
     "text": [
      "{0: 1.763157894736842, 1: 1.763157894736842}\n",
      "Epoch 1/25\n",
      "122/122 [==============================] - 656s 5s/step - loss: 1.6000 - accuracy: 0.5512 - val_loss: 1.1196 - val_accuracy: 0.7082 - lr: 0.0010\n",
      "Epoch 2/25\n",
      "122/122 [==============================] - 683s 6s/step - loss: 1.3385 - accuracy: 0.6083 - val_loss: 0.8265 - val_accuracy: 0.7103 - lr: 0.0010\n",
      "Epoch 3/25\n",
      "122/122 [==============================] - 810s 7s/step - loss: 1.2868 - accuracy: 0.6444 - val_loss: 1.2403 - val_accuracy: 0.7103 - lr: 0.0010\n",
      "Epoch 4/25\n",
      "122/122 [==============================] - ETA: 0s - loss: 1.2300 - accuracy: 0.6547\n",
      "Epoch 4: ReduceLROnPlateau reducing learning rate to 0.0003000000142492354.\n",
      "122/122 [==============================] - 1053s 9s/step - loss: 1.2300 - accuracy: 0.6547 - val_loss: 1.2230 - val_accuracy: 0.7103 - lr: 0.0010\n",
      "Epoch 5/25\n",
      "122/122 [==============================] - 1160s 10s/step - loss: 1.1909 - accuracy: 0.6722 - val_loss: 0.6060 - val_accuracy: 0.7103 - lr: 3.0000e-04\n",
      "Epoch 6/25\n",
      "122/122 [==============================] - 854s 7s/step - loss: 1.1632 - accuracy: 0.6716 - val_loss: 0.9032 - val_accuracy: 0.7123 - lr: 3.0000e-04\n",
      "Epoch 7/25\n",
      "122/122 [==============================] - ETA: 0s - loss: 1.1775 - accuracy: 0.6737\n",
      "Epoch 7: ReduceLROnPlateau reducing learning rate to 9.000000427477062e-05.\n",
      "122/122 [==============================] - 489s 4s/step - loss: 1.1775 - accuracy: 0.6737 - val_loss: 0.6708 - val_accuracy: 0.7103 - lr: 3.0000e-04\n",
      "Epoch 8/25\n",
      "122/122 [==============================] - 6223s 51s/step - loss: 1.1647 - accuracy: 0.6778 - val_loss: 0.6026 - val_accuracy: 0.7082 - lr: 9.0000e-05\n",
      "Epoch 9/25\n",
      "122/122 [==============================] - 1109s 9s/step - loss: 1.1866 - accuracy: 0.6758 - val_loss: 0.6260 - val_accuracy: 0.7062 - lr: 9.0000e-05\n",
      "Epoch 10/25\n",
      "122/122 [==============================] - ETA: 0s - loss: 1.1725 - accuracy: 0.6665\n",
      "Epoch 10: ReduceLROnPlateau reducing learning rate to 2.700000040931627e-05.\n",
      "122/122 [==============================] - 1112s 9s/step - loss: 1.1725 - accuracy: 0.6665 - val_loss: 0.6240 - val_accuracy: 0.7103 - lr: 9.0000e-05\n",
      "Epoch 11/25\n",
      "122/122 [==============================] - 612s 5s/step - loss: 1.1690 - accuracy: 0.6706 - val_loss: 0.6022 - val_accuracy: 0.7103 - lr: 2.7000e-05\n",
      "Epoch 12/25\n",
      "122/122 [==============================] - 865s 7s/step - loss: 1.1906 - accuracy: 0.6711 - val_loss: 0.6114 - val_accuracy: 0.7123 - lr: 2.7000e-05\n",
      "Epoch 13/25\n",
      "122/122 [==============================] - ETA: 0s - loss: 1.1589 - accuracy: 0.6716\n",
      "Epoch 13: ReduceLROnPlateau reducing learning rate to 8.100000013655517e-06.\n",
      "122/122 [==============================] - 804s 7s/step - loss: 1.1589 - accuracy: 0.6716 - val_loss: 0.6026 - val_accuracy: 0.7103 - lr: 2.7000e-05\n",
      "Epoch 14/25\n",
      "122/122 [==============================] - 424s 3s/step - loss: 1.1633 - accuracy: 0.6680 - val_loss: 0.6095 - val_accuracy: 0.7082 - lr: 8.1000e-06\n"
     ]
    },
    {
     "name": "stderr",
     "output_type": "stream",
     "text": [
      "c:\\Users\\admin\\AppData\\Local\\Programs\\Python\\Python38\\lib\\site-packages\\keras\\src\\engine\\training.py:3000: UserWarning: You are saving your model as an HDF5 file via `model.save()`. This file format is considered legacy. We recommend using instead the native Keras format, e.g. `model.save('my_model.keras')`.\n",
      "  saving_api.save_model(\n"
     ]
    }
   ],
   "source": [
    "base_model = ResNet50(include_top=False, input_shape=(img_height, img_width, 3))\n",
    "\n",
    "# Đóng băng các lớp trong mô hình gốc\n",
    "for layer in base_model.layers[:-10]:\n",
    "    layer.trainable = False\n",
    "\n",
    "# Thêm các lớp tùy chỉnh lên trên mô hình gốc\n",
    "x = Flatten()(base_model.output)\n",
    "x = Dense(128, activation='relu')(x)\n",
    "x = BatchNormalization()(x)\n",
    "x = Dropout(0.5)(x)  # Add dropout layer\n",
    "x = Dense(64, activation='relu')(x)\n",
    "x = BatchNormalization()(x)\n",
    "x = Dropout(0.5)(x)  # Add dropout layer\n",
    "predictions = Dense(1, activation='sigmoid')(x)\n",
    "\n",
    "# Tạo mô hình\n",
    "cnn = Model(inputs=base_model.input, outputs=predictions)\n",
    "cnn.compile(optimizer='adam', loss='binary_crossentropy', metrics=['accuracy'])\n",
    "\n",
    "# Định nghĩa callbacks\n",
    "early = EarlyStopping(monitor=\"val_loss\", mode=\"min\", patience=3)\n",
    "learning_rate_reduction = ReduceLROnPlateau(monitor='val_loss', patience=2, verbose=1, factor=0.3, min_lr=0.000001)\n",
    "callbacks_list = [early, learning_rate_reduction]\n",
    "\n",
    "# Tính trọng số lớp\n",
    "unique_classes = np.unique(train_generator.classes)\n",
    "weights = compute_sample_weight(class_weight='balanced', y=train_generator.classes)\n",
    "cw = dict(zip(unique_classes, weights))\n",
    "print(cw)\n",
    "\n",
    "# Huấn luyện mô hình\n",
    "cnn.fit(\n",
    "    train_generator,\n",
    "    epochs=25,\n",
    "    validation_data=validation_generator,\n",
    "    class_weight=cw,\n",
    "    callbacks=callbacks_list\n",
    ")\n",
    "\n",
    "# Lưu mô hình\n",
    "cnn.save('resnet50_custom.h5')"
   ]
  },
  {
   "cell_type": "code",
   "execution_count": 5,
   "metadata": {},
   "outputs": [
    {
     "name": "stdout",
     "output_type": "stream",
     "text": [
      "39/39 [==============================] - 113s 3s/step - loss: 0.6298 - accuracy: 0.6776\n",
      "The testing accuracy is: 67.75777339935303 %\n",
      "39/39 [==============================] - 238s 6s/step\n",
      "Confusion Matrix:\n",
      "[[  0 197]\n",
      " [  0 414]]\n",
      "Classification Report:\n",
      "              precision    recall  f1-score   support\n",
      "\n",
      "      Normal       0.00      0.00      0.00       197\n",
      "     Disease       0.68      1.00      0.81       414\n",
      "\n",
      "    accuracy                           0.68       611\n",
      "   macro avg       0.34      0.50      0.40       611\n",
      "weighted avg       0.46      0.68      0.55       611\n",
      "\n",
      "Sensitivity: 100.00%\n",
      "Specificity: 0.00%\n",
      "F1-Score: 0.81\n"
     ]
    },
    {
     "name": "stderr",
     "output_type": "stream",
     "text": [
      "c:\\Users\\admin\\AppData\\Local\\Programs\\Python\\Python38\\lib\\site-packages\\sklearn\\metrics\\_classification.py:1471: UndefinedMetricWarning: Precision and F-score are ill-defined and being set to 0.0 in labels with no predicted samples. Use `zero_division` parameter to control this behavior.\n",
      "  _warn_prf(average, modifier, msg_start, len(result))\n",
      "c:\\Users\\admin\\AppData\\Local\\Programs\\Python\\Python38\\lib\\site-packages\\sklearn\\metrics\\_classification.py:1471: UndefinedMetricWarning: Precision and F-score are ill-defined and being set to 0.0 in labels with no predicted samples. Use `zero_division` parameter to control this behavior.\n",
      "  _warn_prf(average, modifier, msg_start, len(result))\n",
      "c:\\Users\\admin\\AppData\\Local\\Programs\\Python\\Python38\\lib\\site-packages\\sklearn\\metrics\\_classification.py:1471: UndefinedMetricWarning: Precision and F-score are ill-defined and being set to 0.0 in labels with no predicted samples. Use `zero_division` parameter to control this behavior.\n",
      "  _warn_prf(average, modifier, msg_start, len(result))\n"
     ]
    }
   ],
   "source": [
    "from sklearn.metrics import confusion_matrix, classification_report\n",
    "\n",
    "# Evaluate the model on the test data\n",
    "test_accu = cnn.evaluate(test)\n",
    "print('The testing accuracy is:', test_accu[1] * 100, '%')\n",
    "\n",
    "# Predict the labels for the test data\n",
    "y_pred = cnn.predict(test)\n",
    "y_pred = np.round(y_pred).astype(int)  # Chuyển đổi dự đoán thành nhãn nhị phân (0 hoặc 1)\n",
    "\n",
    "# Get the true labels\n",
    "y_true = test.classes\n",
    "\n",
    "# Compute the confusion matrix\n",
    "conf_matrix = confusion_matrix(y_true, y_pred)\n",
    "print('Confusion Matrix:')\n",
    "print(conf_matrix)\n",
    "\n",
    "# Compute classification report\n",
    "class_report = classification_report(y_true, y_pred, target_names=['Normal', 'Disease'])\n",
    "print('Classification Report:')\n",
    "print(class_report)\n",
    "\n",
    "# Extract Sensitivity, Specificity, and F1-Score from confusion matrix\n",
    "tn, fp, fn, tp = conf_matrix.ravel()\n",
    "sensitivity = tp / (tp + fn)\n",
    "specificity = tn / (tn + fp)\n",
    "precision = tp / (tp + fp)\n",
    "recall = sensitivity  # Recall là tên khác của Sensitivity\n",
    "f1_score = 2 * (precision * recall) / (precision + recall)\n",
    "\n",
    "print(f'Sensitivity: {sensitivity * 100:.2f}%')\n",
    "print(f'Specificity: {specificity * 100:.2f}%')\n",
    "print(f'F1-Score: {f1_score:.2f}')"
   ]
  }
 ],
 "metadata": {
  "kernelspec": {
   "display_name": "Python 3",
   "language": "python",
   "name": "python3"
  },
  "language_info": {
   "codemirror_mode": {
    "name": "ipython",
    "version": 3
   },
   "file_extension": ".py",
   "mimetype": "text/x-python",
   "name": "python",
   "nbconvert_exporter": "python",
   "pygments_lexer": "ipython3",
   "version": "3.8.10"
  },
  "orig_nbformat": 4
 },
 "nbformat": 4,
 "nbformat_minor": 2
}
