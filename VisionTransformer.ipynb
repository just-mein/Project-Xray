{
 "cells": [
  {
   "cell_type": "code",
   "execution_count": null,
   "metadata": {
    "metadata": {}
   },
   "outputs": [
    {
     "ename": "",
     "evalue": "",
     "output_type": "error",
     "traceback": [
      "\u001b[1;31mThe kernel failed to start as 'TypeAliasType' could not be imported from 'c:\\Users\\admin\\AppData\\Local\\Programs\\Python\\Python311\\Lib\\site-packages\\typing_extensions.py'.\n",
      "\u001b[1;31mClick <a href='https://aka.ms/kernelFailuresModuleImportErrFromFile'>here</a> for more info."
     ]
    }
   ],
   "source": [
    "import matplotlib.pyplot as plt\n",
    "import numpy as np            \n",
    "import pandas as pd        \n",
    "\n",
    "from tensorflow import keras\n",
    "from tensorflow.keras.preprocessing.image import ImageDataGenerator\n",
    "from keras.applications import EfficientNetB0\n",
    "from keras.models import Model\n",
    "from keras.layers import Dense, Flatten, BatchNormalization, GlobalAveragePooling2D, Dropout\n",
    "from keras.callbacks import EarlyStopping, ReduceLROnPlateau\n",
    "from keras.optimizers import Adam\n",
    "from sklearn.utils import resample\n",
    "from vit_keras import vit\n",
    "\n",
    "#Đường dẫn thư mục train và test\n",
    "train_path = r'.\\train'\n",
    "test_path = r'.\\test'\n",
    "val_path = r'.\\val'\n",
    "\n",
    "batch_size = 16 \n",
    "\n",
    "img_height = 224\n",
    "img_width = 224"
   ]
  },
  {
   "cell_type": "code",
   "execution_count": 8,
   "metadata": {},
   "outputs": [],
   "source": [
    "# Data augmentation for training\n",
    "image_gen = ImageDataGenerator(\n",
    "    rescale=1./255,\n",
    "    shear_range=0.2,\n",
    "    zoom_range=0.2,\n",
    "    horizontal_flip=True,\n",
    "    rotation_range=30,\n",
    "    width_shift_range=0.2,\n",
    "    height_shift_range=0.2,\n",
    "    brightness_range=[0.8,1.2]\n",
    ")\n",
    "\n",
    "# Data augmentation for testing/validation\n",
    "test_data_gen = ImageDataGenerator(rescale=1./255)"
   ]
  },
  {
   "cell_type": "code",
   "execution_count": 9,
   "metadata": {},
   "outputs": [
    {
     "name": "stdout",
     "output_type": "stream",
     "text": [
      "Found 1943 images belonging to 2 classes.\n",
      "Found 611 images belonging to 2 classes.\n",
      "Found 497 images belonging to 2 classes.\n"
     ]
    }
   ],
   "source": [
    "# Training data generator\n",
    "train_generator = image_gen.flow_from_directory(\n",
    "    train_path,\n",
    "    target_size=(img_height, img_width),\n",
    "    batch_size=batch_size,\n",
    "    class_mode='binary',\n",
    "    color_mode='rgb'\n",
    ")\n",
    "\n",
    "# Testing data generator\n",
    "test = test_data_gen.flow_from_directory(\n",
    "    test_path,\n",
    "    target_size=(img_height, img_width),\n",
    "    color_mode='rgb', \n",
    "    shuffle=False,\n",
    "    class_mode='binary',\n",
    "    batch_size=batch_size\n",
    ")\n",
    "\n",
    "# Validation data generator\n",
    "validation_generator = image_gen.flow_from_directory(\n",
    "    val_path,\n",
    "    target_size=(img_height, img_width),\n",
    "    batch_size=batch_size,\n",
    "    class_mode='binary',\n",
    "    color_mode='rgb'\n",
    ")"
   ]
  },
  {
   "cell_type": "code",
   "execution_count": 15,
   "metadata": {},
   "outputs": [
    {
     "name": "stdout",
     "output_type": "stream",
     "text": [
      "{'Disease': 0, 'Normal': 1}\n"
     ]
    }
   ],
   "source": [
    "print(train_generator.class_indices)"
   ]
  },
  {
   "cell_type": "code",
   "execution_count": 10,
   "metadata": {},
   "outputs": [
    {
     "name": "stdout",
     "output_type": "stream",
     "text": [
      "Downloading data from https://github.com/faustomorales/vit-keras/releases/download/dl/ViT-B_16_imagenet21k+imagenet2012.npz\n",
      "347502902/347502902 [==============================] - 69s 0us/step\n"
     ]
    },
    {
     "name": "stderr",
     "output_type": "stream",
     "text": [
      "C:\\Users\\VuPC\\AppData\\Roaming\\Python\\Python38\\site-packages\\vit_keras\\utils.py:81: UserWarning: Resizing position embeddings from 24, 24 to 14, 14\n",
      "  warnings.warn(\n"
     ]
    },
    {
     "name": "stdout",
     "output_type": "stream",
     "text": [
      "{0: 0.6979166666666666, 1: 0.6979166666666666}\n",
      "Epoch 1/50\n",
      "122/122 [==============================] - 514s 4s/step - loss: 0.4114 - accuracy: 0.7097 - val_loss: 0.6591 - val_accuracy: 0.6076 - lr: 1.0000e-04\n",
      "Epoch 2/50\n",
      "122/122 [==============================] - 514s 4s/step - loss: 0.3634 - accuracy: 0.7535 - val_loss: 0.5387 - val_accuracy: 0.6942 - lr: 1.0000e-04\n",
      "Epoch 3/50\n",
      "122/122 [==============================] - 540s 4s/step - loss: 0.3384 - accuracy: 0.7633 - val_loss: 0.6514 - val_accuracy: 0.6620 - lr: 1.0000e-04\n",
      "Epoch 4/50\n",
      "122/122 [==============================] - 537s 4s/step - loss: 0.3334 - accuracy: 0.7808 - val_loss: 0.5487 - val_accuracy: 0.7082 - lr: 1.0000e-04\n",
      "Epoch 5/50\n",
      "122/122 [==============================] - ETA: 0s - loss: 0.3195 - accuracy: 0.7792\n",
      "Epoch 5: ReduceLROnPlateau reducing learning rate to 2.9999999242136255e-05.\n",
      "122/122 [==============================] - 525s 4s/step - loss: 0.3195 - accuracy: 0.7792 - val_loss: 0.6494 - val_accuracy: 0.6479 - lr: 1.0000e-04\n",
      "Epoch 6/50\n",
      "122/122 [==============================] - 504s 4s/step - loss: 0.3108 - accuracy: 0.7844 - val_loss: 0.5361 - val_accuracy: 0.7082 - lr: 3.0000e-05\n",
      "Epoch 7/50\n",
      "122/122 [==============================] - 521s 4s/step - loss: 0.3040 - accuracy: 0.7936 - val_loss: 0.5531 - val_accuracy: 0.7123 - lr: 3.0000e-05\n",
      "Epoch 8/50\n",
      "122/122 [==============================] - 515s 4s/step - loss: 0.2956 - accuracy: 0.8049 - val_loss: 0.5320 - val_accuracy: 0.7465 - lr: 3.0000e-05\n",
      "Epoch 9/50\n",
      "122/122 [==============================] - 505s 4s/step - loss: 0.3035 - accuracy: 0.7900 - val_loss: 0.4662 - val_accuracy: 0.7827 - lr: 3.0000e-05\n",
      "Epoch 10/50\n",
      "122/122 [==============================] - 503s 4s/step - loss: 0.2989 - accuracy: 0.7972 - val_loss: 0.5280 - val_accuracy: 0.7223 - lr: 3.0000e-05\n",
      "Epoch 11/50\n",
      "122/122 [==============================] - 495s 4s/step - loss: 0.2887 - accuracy: 0.7993 - val_loss: 0.5995 - val_accuracy: 0.7103 - lr: 3.0000e-05\n",
      "Epoch 12/50\n",
      "122/122 [==============================] - ETA: 0s - loss: 0.3063 - accuracy: 0.7910\n",
      "Epoch 12: ReduceLROnPlateau reducing learning rate to 8.999999772640877e-06.\n",
      "122/122 [==============================] - 505s 4s/step - loss: 0.3063 - accuracy: 0.7910 - val_loss: 0.5032 - val_accuracy: 0.7545 - lr: 3.0000e-05\n",
      "Epoch 13/50\n",
      "122/122 [==============================] - 476s 4s/step - loss: 0.2923 - accuracy: 0.7977 - val_loss: 0.5031 - val_accuracy: 0.7525 - lr: 9.0000e-06\n",
      "Epoch 14/50\n",
      "122/122 [==============================] - 477s 4s/step - loss: 0.2900 - accuracy: 0.7962 - val_loss: 0.5329 - val_accuracy: 0.7324 - lr: 9.0000e-06\n"
     ]
    },
    {
     "data": {
      "text/plain": [
       "<keras.src.callbacks.History at 0x1b5c8c8ee80>"
      ]
     },
     "execution_count": 10,
     "metadata": {},
     "output_type": "execute_result"
    }
   ],
   "source": [
    "# Load the Vision Transformer model\n",
    "vit_model = vit.vit_b16(\n",
    "    image_size=img_height,\n",
    "    activation='sigmoid',\n",
    "    pretrained=True,\n",
    "    include_top=True,\n",
    "    pretrained_top=False,\n",
    "    classes=1\n",
    ")\n",
    "# Freeze the transformer layers for fine-tuning\n",
    "for layer in vit_model.layers[:-4]:\n",
    "    layer.trainable = False\n",
    "\n",
    "# Compile the model\n",
    "vit_model.compile(optimizer=Adam(learning_rate=1e-4), loss='binary_crossentropy', metrics=['accuracy'])\n",
    "\n",
    "# Callbacks\n",
    "early = EarlyStopping(monitor=\"val_loss\", mode=\"min\", patience=5)\n",
    "learning_rate_reduction = ReduceLROnPlateau(monitor='val_loss', patience=3, verbose=1, factor=0.3, min_lr=0.000001)\n",
    "callbacks_list = [early, learning_rate_reduction]\n",
    "\n",
    "# Compute class weights\n",
    "from sklearn.utils.class_weight import compute_sample_weight\n",
    "\n",
    "unique_classes = np.unique(train_generator.classes)\n",
    "weights = compute_sample_weight(class_weight='balanced', y=train_generator.classes)\n",
    "cw = dict(zip(unique_classes, weights))\n",
    "print(cw)\n",
    "\n",
    "# Train the model\n",
    "vit_model.fit(\n",
    "    train_generator,\n",
    "    epochs=50,  # Increase the number of epochs if needed\n",
    "    validation_data=validation_generator,\n",
    "    class_weight=cw,\n",
    "    callbacks=callbacks_list\n",
    ")"
   ]
  },
  {
   "cell_type": "code",
   "execution_count": 11,
   "metadata": {},
   "outputs": [
    {
     "name": "stderr",
     "output_type": "stream",
     "text": [
      "c:\\Program Files\\Python38\\lib\\site-packages\\keras\\src\\engine\\training.py:3000: UserWarning: You are saving your model as an HDF5 file via `model.save()`. This file format is considered legacy. We recommend using instead the native Keras format, e.g. `model.save('my_model.keras')`.\n",
      "  saving_api.save_model(\n"
     ]
    }
   ],
   "source": [
    "vit_model.save('VisionTransformer.h5')"
   ]
  },
  {
   "cell_type": "code",
   "execution_count": 14,
   "metadata": {},
   "outputs": [
    {
     "name": "stdout",
     "output_type": "stream",
     "text": [
      "39/39 [==============================] - 184s 5s/step - loss: 0.4200 - accuracy: 0.8314\n",
      "The testing accuracy is: 83.14238786697388 %\n",
      "39/39 [==============================] - 185s 5s/step\n",
      "Confusion Matrix:\n",
      "[[340  74]\n",
      " [ 29 168]]\n",
      "Classification Report:\n",
      "              precision    recall  f1-score   support\n",
      "\n",
      "     Disease       0.92      0.82      0.87       414\n",
      "      Normal       0.69      0.85      0.77       197\n",
      "\n",
      "    accuracy                           0.83       611\n",
      "   macro avg       0.81      0.84      0.82       611\n",
      "weighted avg       0.85      0.83      0.84       611\n",
      "\n",
      "Sensitivity: 85.28%\n",
      "Specificity: 82.13%\n",
      "F1-Score: 0.77\n"
     ]
    }
   ],
   "source": [
    "from sklearn.metrics import confusion_matrix, classification_report\n",
    "\n",
    "# Evaluate the model on the test data\n",
    "test_accu = vit_model.evaluate(test)\n",
    "print('The testing accuracy is:', test_accu[1] * 100, '%')\n",
    "\n",
    "# Predict the labels for the test data\n",
    "y_pred = vit_model.predict(test)\n",
    "y_pred = np.round(y_pred).astype(int)  # Chuyển đổi dự đoán thành nhãn nhị phân (0 hoặc 1)\n",
    "\n",
    "# Get the true labels\n",
    "y_true = test.classes\n",
    "\n",
    "# Compute the confusion matrix\n",
    "conf_matrix = confusion_matrix(y_true, y_pred)\n",
    "print('Confusion Matrix:')\n",
    "print(conf_matrix)\n",
    "\n",
    "# Compute classification report\n",
    "class_report = classification_report(y_true, y_pred, target_names=['Disease', 'Normal'])\n",
    "print('Classification Report:')\n",
    "print(class_report)\n",
    "\n",
    "# Extract Sensitivity, Specificity, and F1-Score from confusion matrix\n",
    "tn, fp, fn, tp = conf_matrix.ravel()\n",
    "sensitivity = tp / (tp + fn)\n",
    "specificity = tn / (tn + fp)\n",
    "precision = tp / (tp + fp)\n",
    "recall = sensitivity  # Recall là tên khác của Sensitivity\n",
    "f1_score = 2 * (precision * recall) / (precision + recall)\n",
    "\n",
    "print(f'Sensitivity: {sensitivity * 100:.2f}%')\n",
    "print(f'Specificity: {specificity * 100:.2f}%')\n",
    "print(f'F1-Score: {f1_score:.2f}')"
   ]
  }
 ],
 "metadata": {
  "kernelspec": {
   "display_name": "Python 3.8.10 64-bit",
   "language": "python",
   "name": "python3"
  },
  "language_info": {
   "codemirror_mode": {
    "name": "ipython",
    "version": 3
   },
   "file_extension": ".py",
   "mimetype": "text/x-python",
   "name": "python",
   "nbconvert_exporter": "python",
   "pygments_lexer": "ipython3",
   "version": "3.11.0"
  },
  "orig_nbformat": 4,
  "vscode": {
   "interpreter": {
    "hash": "570feb405e2e27c949193ac68f46852414290d515b0ba6e5d90d076ed2284471"
   }
  }
 },
 "nbformat": 4,
 "nbformat_minor": 2
}
